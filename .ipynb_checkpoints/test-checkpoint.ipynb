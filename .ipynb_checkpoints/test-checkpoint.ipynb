{
 "cells": [
  {
   "cell_type": "code",
   "execution_count": 1,
   "metadata": {
    "collapsed": false
   },
   "outputs": [
    {
     "ename": "ImportError",
     "evalue": "No module named 'diffusion'",
     "output_type": "error",
     "traceback": [
      "\u001b[0;31m---------------------------------------------------------------------------\u001b[0m",
      "\u001b[0;31mImportError\u001b[0m                               Traceback (most recent call last)",
      "\u001b[0;32m<ipython-input-1-019c513e4851>\u001b[0m in \u001b[0;36m<module>\u001b[0;34m()\u001b[0m\n\u001b[1;32m      1\u001b[0m \u001b[1;32mfrom\u001b[0m \u001b[0mfemtoPy\u001b[0m\u001b[1;33m.\u001b[0m\u001b[0mpreamble\u001b[0m \u001b[1;32mimport\u001b[0m \u001b[1;33m*\u001b[0m\u001b[1;33m\u001b[0m\u001b[0m\n\u001b[0;32m----> 2\u001b[0;31m \u001b[1;32mimport\u001b[0m \u001b[0mdiffusion\u001b[0m \u001b[1;32mas\u001b[0m \u001b[0mdiff\u001b[0m\u001b[1;33m\u001b[0m\u001b[0m\n\u001b[0m\u001b[1;32m      3\u001b[0m \u001b[1;32mimport\u001b[0m \u001b[0mtime\u001b[0m \u001b[1;32mas\u001b[0m \u001b[0mtime\u001b[0m\u001b[1;33m\u001b[0m\u001b[0m\n",
      "\u001b[0;31mImportError\u001b[0m: No module named 'diffusion'"
     ]
    }
   ],
   "source": [
    "from femtoPy.preamble import *\n",
    "import diffusion as diff\n",
    "import time as time"
   ]
  },
  {
   "cell_type": "code",
   "execution_count": null,
   "metadata": {
    "collapsed": true
   },
   "outputs": [],
   "source": [
    "def update(dist,E):\n",
    "    dist.prep()\n",
    "    dist.dif_matrix()\n",
    "    dist.mono()\n",
    "    dist.step()\n",
    "\n",
    "    return\n",
    "    \n",
    "\n",
    "dt=.05\n",
    "dy=.01\n",
    "y_min=0\n",
    "y_max=5\n",
    "t_min=0\n",
    "t_max=100\n",
    "\n",
    "grid=diff.classes.Grid(dt=dt,dy=dy,y_min=y_min,y_max=y_max,t_min=t_min,t_max=t_max)\n",
    "\n",
    "N=np.arange(t_min,t_max,dt).size\n",
    "\n",
    "def exp(x,alpha):\n",
    "    y=10*np.exp(-x*alpha)\n",
    "    return y\n",
    "\n",
    "elec=diff.classes.Distribution(grid=grid,d0=np.exp(-grid.y*1.62),s=1e-2,D=1.004e-3,A=2100,q=-1.6e-19)\n",
    "# hole=diff.classes.Distribution(grid=grid,d0=np.exp(-grid.y*1.62),s=1e-2,D=1.004e-2,tau=2100,q=1.6e-19)\n",
    "E=diff.classes.Field(grid=grid,E0=np.asmatrix(np.zeros(grid.y.size)).T)\n",
    "\n",
    "t0=time.time()\n",
    "for i in range(0,grid.t.size-1):\n",
    "    #E.solveGauss(grid,elec,hole,i)\n",
    "    update(elec,E)\n",
    "    #update(hole,E)\n",
    "    \n",
    "fig,ax=plt.subplots(figsize=(10,8))\n",
    "X,Y=np.meshgrid(np.asarray(grid.t)[0,:],np.asarray(grid.y)[:,0])\n",
    "ax.contourf(X,Y,elec.density)\n",
    "#ax.contourf(X,Y,E.field)\n",
    "\n",
    "plt.show()"
   ]
  }
 ],
 "metadata": {
  "kernelspec": {
   "display_name": "Python [default]",
   "language": "python",
   "name": "python3"
  },
  "language_info": {
   "codemirror_mode": {
    "name": "ipython",
    "version": 3
   },
   "file_extension": ".py",
   "mimetype": "text/x-python",
   "name": "python",
   "nbconvert_exporter": "python",
   "pygments_lexer": "ipython3",
   "version": "3.5.2"
  }
 },
 "nbformat": 4,
 "nbformat_minor": 2
}
