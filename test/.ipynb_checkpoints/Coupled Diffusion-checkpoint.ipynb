{
 "cells": [
  {
   "cell_type": "code",
   "execution_count": 1,
   "metadata": {
    "collapsed": false,
    "scrolledInput": "true"
   },
   "outputs": [],
   "source": [
    "from femtoPy.preamble import *\n",
    "import time as time\n",
    "\n",
    "# import femtoPy.distribution"
   ]
  },
  {
   "cell_type": "code",
   "execution_count": 4,
   "metadata": {
    "collapsed": false,
    "columns": "true",
    "format": "column",
    "scrolled": true
   },
   "outputs": [
    {
     "ename": "NameError",
     "evalue": "name 'gridParams' is not defined",
     "output_type": "error",
     "traceback": [
      "\u001b[0;31m---------------------------------------------------------------------------\u001b[0m",
      "\u001b[0;31mNameError\u001b[0m                                 Traceback (most recent call last)",
      "\u001b[0;32m<ipython-input-4-27404223b006>\u001b[0m in \u001b[0;36m<module>\u001b[0;34m()\u001b[0m\n\u001b[1;32m      6\u001b[0m \u001b[0my_max\u001b[0m\u001b[1;33m=\u001b[0m\u001b[1;36m5\u001b[0m\u001b[1;33m\u001b[0m\u001b[0m\n\u001b[1;32m      7\u001b[0m \u001b[1;33m\u001b[0m\u001b[0m\n\u001b[0;32m----> 8\u001b[0;31m \u001b[0mgrid\u001b[0m\u001b[1;33m=\u001b[0m\u001b[0mgridParams\u001b[0m\u001b[1;33m(\u001b[0m\u001b[0mdt\u001b[0m\u001b[1;33m=\u001b[0m\u001b[1;36m0.05\u001b[0m\u001b[1;33m,\u001b[0m\u001b[0mdy\u001b[0m\u001b[1;33m=\u001b[0m\u001b[1;36m0.01\u001b[0m\u001b[1;33m,\u001b[0m\u001b[0my_min\u001b[0m\u001b[1;33m=\u001b[0m\u001b[1;36m0\u001b[0m\u001b[1;33m,\u001b[0m\u001b[0my_max\u001b[0m\u001b[1;33m=\u001b[0m\u001b[1;36m5\u001b[0m\u001b[1;33m,\u001b[0m\u001b[0mt_min\u001b[0m\u001b[1;33m=\u001b[0m\u001b[1;36m0\u001b[0m\u001b[1;33m,\u001b[0m\u001b[0mt_max\u001b[0m\u001b[1;33m=\u001b[0m\u001b[1;36m100\u001b[0m\u001b[1;33m)\u001b[0m\u001b[1;33m\u001b[0m\u001b[0m\n\u001b[0m\u001b[1;32m      9\u001b[0m \u001b[1;33m\u001b[0m\u001b[0m\n\u001b[1;32m     10\u001b[0m \u001b[0mN\u001b[0m\u001b[1;33m=\u001b[0m\u001b[0mnp\u001b[0m\u001b[1;33m.\u001b[0m\u001b[0marange\u001b[0m\u001b[1;33m(\u001b[0m\u001b[0mt_min\u001b[0m\u001b[1;33m,\u001b[0m\u001b[0mt_max\u001b[0m\u001b[1;33m,\u001b[0m\u001b[0mdt\u001b[0m\u001b[1;33m)\u001b[0m\u001b[1;33m.\u001b[0m\u001b[0msize\u001b[0m\u001b[1;33m\u001b[0m\u001b[0m\n",
      "\u001b[0;31mNameError\u001b[0m: name 'gridParams' is not defined"
     ]
    }
   ],
   "source": [
    "dy=.01\n",
    "dt=.05\n",
    "t_min=0\n",
    "t_max=100\n",
    "y_min=0\n",
    "y_max=5\n",
    "\n",
    "grid=gridParams(dt=0.05,dy=0.01,y_min=0,y_max=5,t_min=0,t_max=100)\n",
    "\n",
    "N=np.arange(t_min,t_max,dt).size\n",
    "\n",
    "def mono(n,mat):\n",
    "    return np.zeros(n.size)+1/mat.tau\n",
    "\n",
    "def noRecombination(n,mat):\n",
    "    return np.zeros(n.size)\n",
    "\n",
    "def exp(x,alpha):\n",
    "    y=10*np.exp(-x*alpha)\n",
    "    return y\n",
    "\n",
    "D1=np.zeros(N)+1.004e-3\n",
    "D2=np.zeros(N)+1.004e-4\n",
    "\n",
    "electrons=semiconductor(s=8.5e-10,D=D1,tau=2100,q=-1)\n",
    "holes=semiconductor(s=8.5e-10,D=D2,tau=2100,q=1)\n",
    "\n",
    "\n",
    "elec=distribution(grid=grid,d0=exp,args=1.62,mat=electrons)\n",
    "hole=distribution(grid=grid,d0=exp,args=1.62,mat=holes)\n",
    "E=E_field(grid=grid,E0=np.zeros(grid.y.size))\n",
    "\n",
    "t0=time.time()\n",
    "for i in range(0,elec.grid.t.size-1):\n",
    "    E.step(elec.density[:,i],hole.density[:,i],i)\n",
    "    elec.step(noRecombination,i,E.field[:,i])\n",
    "    hole.step(noRecombination,i,E.field[:,i])\n",
    "print('time:',time.time()-t0)\n",
    "\n",
    "elec1=distribution(d0=exp,args=1.62,mat=electrons)\n",
    "hole1=distribution(d0=exp,args=1.62,mat=holes)\n",
    "E1=E_field(grid=grid,E0=np.zeros(grid.y.size))\n",
    "\n",
    "t0=time.time()\n",
    "for i in range(0,elec.grid.t.size-1):\n",
    "    E1.step(elec.density[:,i],hole.density[:,i],i)\n",
    "    E1.field[:,i]=np.asmatrix(np.zeros(E.field[:,i].size)).T\n",
    "    elec1.step(noRecombination,i,E.field[:,i]*100000)\n",
    "    hole1.step(noRecombination,i,E.field[:,i]*100000)\n",
    "print('time:',time.time()-t0)"
   ]
  }
 ],
 "metadata": {
  "kernelspec": {
   "display_name": "Python [default]",
   "language": "python",
   "name": "python3"
  },
  "language_info": {
   "codemirror_mode": {
    "name": "ipython",
    "version": 3
   },
   "file_extension": ".py",
   "mimetype": "text/x-python",
   "name": "python",
   "nbconvert_exporter": "python",
   "pygments_lexer": "ipython3",
   "version": "3.5.2"
  }
 },
 "nbformat": 4,
 "nbformat_minor": 2
}
