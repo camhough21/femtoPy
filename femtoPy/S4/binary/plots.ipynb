{
 "cells": [
  {
   "cell_type": "code",
   "execution_count": 26,
   "metadata": {},
   "outputs": [],
   "source": [
    "from femtoPy.imports import *\n",
    "import os\n",
    "\n",
    "%matplotlib inline"
   ]
  },
  {
   "cell_type": "code",
   "execution_count": 117,
   "metadata": {},
   "outputs": [
    {
     "data": {
      "text/plain": [
       "<BarContainer object of 31 artists>"
      ]
     },
     "execution_count": 117,
     "metadata": {},
     "output_type": "execute_result"
    },
    {
     "data": {
      "image/png": "[encoded data removed]",
      "text/plain": [
       "<Figure size 720x504 with 1 Axes>"
      ]
     },
     "metadata": {
      "needs_background": "light"
     },
     "output_type": "display_data"
    }
   ],
   "source": [
    "def runLua(runFile):\n",
    "    os.system('S4 '+str(runFile)+'.lua > .log 2> .err')\n",
    "    if not os.stat('.err').st_size == 0:\n",
    "        err=open('.err').read()\n",
    "        print(err)\n",
    "    else:\n",
    "        T=np.loadtxt(dat['trans'])\n",
    "        R=np.loadtxt(dat['refl'])\n",
    "    return T,R\n",
    "\n",
    "def setup(runFile,t,halfWidth):\n",
    "    dat={\n",
    "        'f':1.3,\n",
    "        'theta':0,\n",
    "        's_amp':1,\n",
    "        's_phase':0,\n",
    "        'p_amp':0,\n",
    "        'p_phase':0,\n",
    "        'ngr':13, \n",
    "        'ngi':0,\n",
    "        'nsr':1, 'nsi':0,\n",
    "\n",
    "        'trans':\"data/transFlux\"+str(halfWidth)+\".dat\",\n",
    "        'refl':\"data/reflFlux\"+str(halfWidth)+\".dat\",\n",
    "\n",
    "        'numG':31,\n",
    "\n",
    "        'tmin':np.amin(t),\n",
    "        'tmax':np.amax(t),\n",
    "        'tstep':t[1]-t[0],\n",
    "\n",
    "        'center':0.5,\n",
    "        'halfWidth':halfWidth\n",
    "    }\n",
    "    file=open(runFile+'.dat','w')\n",
    "    for key,val in dat.items():\n",
    "        if type(val)==str:\n",
    "            file.write(str(key)+'=\"'+str(val)+'\"'+'\\n')\n",
    "        else:\n",
    "            file.write(str(key)+'='+str(val)+'\\n')\n",
    "    file.close()\n",
    "    \n",
    "    return dat\n",
    "\n",
    "def get_t(i,flux):\n",
    "    return flux[i*dat['numG']:(i+1)*dat['numG'],:]\n",
    "\n",
    "t=np.linspace(0,1,20)\n",
    "halfWidth=np.linspace(0,0.5,20)\n",
    "for hw in halfWidth:\n",
    "    dat=setup('init',t,hw)\n",
    "    T,R=runLua('testThickness')\n",
    "\n",
    "T1=get_t(0,T)\n",
    "R1=get_t(0,R)\n",
    "\n",
    "fig,ax=figure()\n",
    "ax.bar(R1[:,0],np.absolute(R1[:,3]),alpha=0.5)\n",
    "ax.bar(R1[:,0],np.absolute(T1[:,2]),alpha=0.5)"
   ]
  },
  {
   "cell_type": "code",
   "execution_count": null,
   "metadata": {},
   "outputs": [],
   "source": [
    "\n",
    "\n",
    "\n",
    "\n",
    "\n",
    "\n",
    "\n",
    "\n",
    "\n",
    "\n",
    "\n",
    "\n",
    "\n",
    "\n",
    "\n",
    "\n",
    "\n",
    "\n"
   ]
  }
 ],
 "metadata": {
  "kernelspec": {
   "display_name": "Python 3",
   "language": "python",
   "name": "python3"
  },
  "language_info": {
   "codemirror_mode": {
    "name": "ipython",
    "version": 3
   },
   "file_extension": ".py",
   "mimetype": "text/x-python",
   "name": "python",
   "nbconvert_exporter": "python",
   "pygments_lexer": "ipython3",
   "version": "3.7.0"
  }
 },
 "nbformat": 4,
 "nbformat_minor": 2
}
