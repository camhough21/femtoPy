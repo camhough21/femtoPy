{
 "cells": [
  {
   "cell_type": "code",
   "execution_count": 1,
   "metadata": {
    "collapsed": false
   },
   "outputs": [],
   "source": [
    "from femtoPy.preamble import *\n",
    "import diffusion as diff\n",
    "import time as time"
   ]
  },
  {
   "cell_type": "code",
   "execution_count": 3,
   "metadata": {
    "collapsed": false,
    "columns": "true"
   },
   "outputs": [
    {
     "data": {
      "image/png": "[encoded data removed]",
      "text/plain": [
       "<matplotlib.figure.Figure at 0x2186208c2b0>"
      ]
     },
     "metadata": {},
     "output_type": "display_data"
    }
   ],
   "source": [
    "def update(dist,E):\n",
    "    dist.prep()\n",
    "    dist.dif_matrix()\n",
    "    dist.step()\n",
    "\n",
    "    return\n",
    "    \n",
    "\n",
    "dt=.05\n",
    "dy=.01\n",
    "y_min=0\n",
    "y_max=5\n",
    "t_min=0\n",
    "t_max=100\n",
    "\n",
    "grid=diff.classes.Grid(dt=dt,dy=dy,y_min=y_min,y_max=y_max,t_min=t_min,t_max=t_max)\n",
    "\n",
    "N=np.arange(t_min,t_max,dt).size\n",
    "\n",
    "def exp(x,alpha):\n",
    "    y=10*np.exp(-x*alpha)\n",
    "    return y\n",
    "\n",
    "elec=diff.classes.Distribution(grid=grid,d0=np.exp(-grid.y*1.62),s=1e-2,D=1.004e-3,A=2100,q=-1.6e-19)\n",
    "# hole=diff.classes.Distribution(grid=grid,d0=np.exp(-grid.y*1.62),s=1e-2,D=1.004e-2,tau=2100,q=1.6e-19)\n",
    "E=diff.classes.Field(grid=grid,E0=np.asmatrix(np.zeros(grid.y.size)).T)\n",
    "\n",
    "t0=time.time()\n",
    "for i in range(0,grid.t.size-1):\n",
    "    #E.solveGauss(grid,elec,hole,i)\n",
    "    update(elec,E)\n",
    "    #update(hole,E)\n",
    "    \n",
    "fig,ax=plt.subplots(figsize=(10,8))\n",
    "X,Y=np.meshgrid(np.asarray(grid.t)[0,:],np.asarray(grid.y)[:,0])\n",
    "ax.contourf(X,Y,elec.density)\n",
    "#ax.contourf(X,Y,E.field)\n",
    "\n",
    "# ax.plot(elec.density[:,1])\n",
    "\n",
    "plt.show()"
   ]
  }
 ],
 "metadata": {
  "kernelspec": {
   "display_name": "Python [default]",
   "language": "python",
   "name": "python3"
  },
  "language_info": {
   "codemirror_mode": {
    "name": "ipython",
    "version": 3
   },
   "file_extension": ".py",
   "mimetype": "text/x-python",
   "name": "python",
   "nbconvert_exporter": "python",
   "pygments_lexer": "ipython3",
   "version": "3.5.2"
  }
 },
 "nbformat": 4,
 "nbformat_minor": 2
}
